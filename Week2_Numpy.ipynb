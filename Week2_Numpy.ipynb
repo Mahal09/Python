{
  "nbformat": 4,
  "nbformat_minor": 0,
  "metadata": {
    "colab": {
      "provenance": [],
      "authorship_tag": "ABX9TyN+DJG7ZQLLq1CBxs/xevgi",
      "include_colab_link": true
    },
    "kernelspec": {
      "name": "python3",
      "display_name": "Python 3"
    },
    "language_info": {
      "name": "python"
    }
  },
  "cells": [
    {
      "cell_type": "markdown",
      "metadata": {
        "id": "view-in-github",
        "colab_type": "text"
      },
      "source": [
        "<a href=\"https://colab.research.google.com/github/Mahal09/Python/blob/main/Week2_Numpy.ipynb\" target=\"_parent\"><img src=\"https://colab.research.google.com/assets/colab-badge.svg\" alt=\"Open In Colab\"/></a>"
      ]
    },
    {
      "cell_type": "code",
      "execution_count": 2,
      "metadata": {
        "id": "ABen-aVzth2i"
      },
      "outputs": [],
      "source": [
        "import numpy as np"
      ]
    },
    {
      "cell_type": "code",
      "source": [
        "from google.colab import drive\n",
        "drive.mount('/content/drive')"
      ],
      "metadata": {
        "id": "UdmaqJgPm4Qr"
      },
      "execution_count": null,
      "outputs": []
    },
    {
      "cell_type": "code",
      "source": [],
      "metadata": {
        "id": "Taq6Nu4anPKr"
      },
      "execution_count": null,
      "outputs": []
    },
    {
      "cell_type": "code",
      "source": [],
      "metadata": {
        "id": "YYNhN4a2nPNF"
      },
      "execution_count": null,
      "outputs": []
    },
    {
      "cell_type": "code",
      "source": [
        "arr_str = ['Mercedes', 'BMW', 'Audi', 'Ferrari', 'Tesla']\n",
        "\n",
        "# defining a list of number of cylinders in car or numerical elements\n",
        "arr_num = [5, 4, 6, 7, 3]\n"
      ],
      "metadata": {
        "id": "MmILRsFmubDS"
      },
      "execution_count": null,
      "outputs": []
    },
    {
      "cell_type": "code",
      "source": [
        "np_arr_str = np.array (arr_str)\n",
        "np_arr_num = np.array(arr_num)\n",
        "\n",
        "print(np_arr_str)\n",
        "print(type(np_arr_num))"
      ],
      "metadata": {
        "colab": {
          "base_uri": "https://localhost:8080/"
        },
        "id": "u-SfFgpou16A",
        "outputId": "93dc9199-03d1-42e6-bbc0-cdb67687b638"
      },
      "execution_count": null,
      "outputs": [
        {
          "output_type": "stream",
          "name": "stdout",
          "text": [
            "['Mercedes' 'BMW' 'Audi' 'Ferrari' 'Tesla']\n",
            "<class 'numpy.ndarray'>\n"
          ]
        }
      ]
    },
    {
      "cell_type": "code",
      "source": [
        "print('Data type of arr_str: ',type(arr_str))\n",
        "print('Data type of arr_num: ',type(arr_num))\n",
        "\n",
        "# printing the data type after conversion of lists to array\n",
        "print('Data type of np_arr_str: ',type(np_arr_str))\n",
        "print('Data type of np_arr_num: ',type(np_arr_num))"
      ],
      "metadata": {
        "colab": {
          "base_uri": "https://localhost:8080/"
        },
        "id": "HfzyjvIewxXW",
        "outputId": "edebfc13-ae48-4003-94a0-c0efc3f7c05f"
      },
      "execution_count": null,
      "outputs": [
        {
          "output_type": "stream",
          "name": "stdout",
          "text": [
            "Data type of arr_str:  <class 'list'>\n",
            "Data type of arr_num:  <class 'list'>\n",
            "Data type of np_arr_str:  <class 'numpy.ndarray'>\n",
            "Data type of np_arr_num:  <class 'numpy.ndarray'>\n"
          ]
        }
      ]
    },
    {
      "cell_type": "code",
      "source": [
        "matrix = np.array([[1,2,1],[4,5,9],[1,8,9]])\n",
        "print( matrix)"
      ],
      "metadata": {
        "colab": {
          "base_uri": "https://localhost:8080/"
        },
        "id": "l6XfZlhswy6R",
        "outputId": "ad67f669-2ec4-48ef-c57c-cf69b4e409d3"
      },
      "execution_count": null,
      "outputs": [
        {
          "output_type": "stream",
          "name": "stdout",
          "text": [
            "[[1 2 1]\n",
            " [4 5 9]\n",
            " [1 8 9]]\n"
          ]
        }
      ]
    },
    {
      "cell_type": "code",
      "source": [
        "print(type( matrix))"
      ],
      "metadata": {
        "colab": {
          "base_uri": "https://localhost:8080/"
        },
        "id": "p1WNL7VLyTwZ",
        "outputId": "53e84c90-95b9-4764-dc73-415c260cdf37"
      },
      "execution_count": null,
      "outputs": [
        {
          "output_type": "stream",
          "name": "stdout",
          "text": [
            "<class 'numpy.ndarray'>\n"
          ]
        }
      ]
    },
    {
      "cell_type": "code",
      "source": [
        "arr2  = np.arange(start = 0, stop = 10)\n",
        "# 10 will be excluded from the output\n",
        "print(arr2)\n",
        "\n",
        "# or\n",
        "\n",
        "arr2  = np.arange(0,10)\n",
        "print(arr2)"
      ],
      "metadata": {
        "colab": {
          "base_uri": "https://localhost:8080/"
        },
        "id": "LUe-tvr1S5Nl",
        "outputId": "6a2f508f-b6de-4e0e-a22f-c1b1908c8716"
      },
      "execution_count": null,
      "outputs": [
        {
          "output_type": "stream",
          "name": "stdout",
          "text": [
            "[0 1 2 3 4 5 6 7 8 9]\n",
            "[0 1 2 3 4 5 6 7 8 9]\n"
          ]
        }
      ]
    },
    {
      "cell_type": "code",
      "source": [
        "arr3 = np.arange(0,20,5)\n",
        "print(arr3)"
      ],
      "metadata": {
        "colab": {
          "base_uri": "https://localhost:8080/"
        },
        "id": "h_TU0X5OftoW",
        "outputId": "a99e1519-9f14-4f59-9648-9eb6249e71a1"
      },
      "execution_count": null,
      "outputs": [
        {
          "output_type": "stream",
          "name": "stdout",
          "text": [
            "[ 0  5 10 15]\n"
          ]
        }
      ]
    },
    {
      "cell_type": "code",
      "source": [
        "arr3 = np.arange(0,20,5)\n",
        "arr3"
      ],
      "metadata": {
        "colab": {
          "base_uri": "https://localhost:8080/"
        },
        "id": "xrMQ4rmmicPI",
        "outputId": "b0953ec8-a117-4fc8-a646-12597a49fe65"
      },
      "execution_count": null,
      "outputs": [
        {
          "output_type": "execute_result",
          "data": {
            "text/plain": [
              "array([ 0,  5, 10, 15])"
            ]
          },
          "metadata": {},
          "execution_count": 8
        }
      ]
    },
    {
      "cell_type": "code",
      "source": [
        "arr3  = np.arange(start = 0, stop = 20, step = 5)\n",
        "arr3"
      ],
      "metadata": {
        "colab": {
          "base_uri": "https://localhost:8080/"
        },
        "id": "KP61RbSkhfRN",
        "outputId": "ca0bb5c1-7e5c-493b-98b8-95a5d6c1c69f"
      },
      "execution_count": null,
      "outputs": [
        {
          "output_type": "execute_result",
          "data": {
            "text/plain": [
              "array([ 0,  5, 10, 15])"
            ]
          },
          "metadata": {},
          "execution_count": 7
        }
      ]
    },
    {
      "cell_type": "code",
      "source": [
        "matrix2 = np.linspace(0,5) # by default 50 evenly spaced values will be generated between 0 and 5\n",
        "type(matrix2)\n",
        "matrix2"
      ],
      "metadata": {
        "colab": {
          "base_uri": "https://localhost:8080/"
        },
        "id": "wOrWD6DWkeDX",
        "outputId": "10baa004-6312-465f-be82-989eb2e55cc6"
      },
      "execution_count": null,
      "outputs": [
        {
          "output_type": "execute_result",
          "data": {
            "text/plain": [
              "array([0.        , 0.10204082, 0.20408163, 0.30612245, 0.40816327,\n",
              "       0.51020408, 0.6122449 , 0.71428571, 0.81632653, 0.91836735,\n",
              "       1.02040816, 1.12244898, 1.2244898 , 1.32653061, 1.42857143,\n",
              "       1.53061224, 1.63265306, 1.73469388, 1.83673469, 1.93877551,\n",
              "       2.04081633, 2.14285714, 2.24489796, 2.34693878, 2.44897959,\n",
              "       2.55102041, 2.65306122, 2.75510204, 2.85714286, 2.95918367,\n",
              "       3.06122449, 3.16326531, 3.26530612, 3.36734694, 3.46938776,\n",
              "       3.57142857, 3.67346939, 3.7755102 , 3.87755102, 3.97959184,\n",
              "       4.08163265, 4.18367347, 4.28571429, 4.3877551 , 4.48979592,\n",
              "       4.59183673, 4.69387755, 4.79591837, 4.89795918, 5.        ])"
            ]
          },
          "metadata": {},
          "execution_count": 10
        }
      ]
    },
    {
      "cell_type": "markdown",
      "source": [
        "How are these values getting generated?\n",
        "\n",
        "The step size or the difference between each element will be decided by the following formula:\n",
        "\n",
        "(stop - start) / (total elements - 1)\n",
        "\n",
        "So, in this case: (5 - 0) / 49 = 0.10204082\n",
        "\n",
        "The first value will be 0.10204082, the second value will be 0.10204082 + 0.10204082, the third value will be 0.10204082 + 0.10204082 +0.10204082, and so on"
      ],
      "metadata": {
        "id": "Rq4h2kVFlh9f"
      }
    },
    {
      "cell_type": "code",
      "source": [
        "# generating 10 evenly spaced values between 10 and 20\n",
        "matrix3 = np.linspace(10,20,11)\n",
        "matrix3"
      ],
      "metadata": {
        "colab": {
          "base_uri": "https://localhost:8080/"
        },
        "id": "CWCPPHhOlj_H",
        "outputId": "541b2232-9cb6-4f7d-a6c9-ec4a4e5e81d7"
      },
      "execution_count": null,
      "outputs": [
        {
          "output_type": "execute_result",
          "data": {
            "text/plain": [
              "array([10., 11., 12., 13., 14., 15., 16., 17., 18., 19., 20.])"
            ]
          },
          "metadata": {},
          "execution_count": 13
        }
      ]
    },
    {
      "cell_type": "markdown",
      "source": [
        "20-10/11-1 =10/10"
      ],
      "metadata": {
        "id": "mVJ2bkT9lxGM"
      }
    },
    {
      "cell_type": "code",
      "source": [
        "matrix4 = np.zeros([3,5])\n",
        "matrix4"
      ],
      "metadata": {
        "colab": {
          "base_uri": "https://localhost:8080/"
        },
        "id": "hKf3fMcll6m0",
        "outputId": "f3397821-1dee-48e4-be00-bb870aba92c2"
      },
      "execution_count": null,
      "outputs": [
        {
          "output_type": "execute_result",
          "data": {
            "text/plain": [
              "array([[0., 0., 0., 0., 0.],\n",
              "       [0., 0., 0., 0., 0.],\n",
              "       [0., 0., 0., 0., 0.]])"
            ]
          },
          "metadata": {},
          "execution_count": 14
        }
      ]
    },
    {
      "cell_type": "code",
      "source": [
        "matrix4 = np.zeros([3,15])\n",
        "matrix4"
      ],
      "metadata": {
        "colab": {
          "base_uri": "https://localhost:8080/"
        },
        "id": "6wtSMgy0mtqK",
        "outputId": "43be4f41-df15-4270-b115-142d738a76f2"
      },
      "execution_count": null,
      "outputs": [
        {
          "output_type": "execute_result",
          "data": {
            "text/plain": [
              "array([[0., 0., 0., 0., 0., 0., 0., 0., 0., 0., 0., 0., 0., 0., 0.],\n",
              "       [0., 0., 0., 0., 0., 0., 0., 0., 0., 0., 0., 0., 0., 0., 0.],\n",
              "       [0., 0., 0., 0., 0., 0., 0., 0., 0., 0., 0., 0., 0., 0., 0.]])"
            ]
          },
          "metadata": {},
          "execution_count": 16
        }
      ]
    },
    {
      "cell_type": "code",
      "source": [
        "matrix5 = np.ones([3,7])\n",
        "matrix5"
      ],
      "metadata": {
        "colab": {
          "base_uri": "https://localhost:8080/"
        },
        "id": "rTOTU29am4ei",
        "outputId": "44f8289b-dcf2-40a9-ca0b-04fb7bc723ce"
      },
      "execution_count": null,
      "outputs": [
        {
          "output_type": "execute_result",
          "data": {
            "text/plain": [
              "array([[1., 1., 1., 1., 1., 1., 1.],\n",
              "       [1., 1., 1., 1., 1., 1., 1.],\n",
              "       [1., 1., 1., 1., 1., 1., 1.]])"
            ]
          },
          "metadata": {},
          "execution_count": 18
        }
      ]
    },
    {
      "cell_type": "code",
      "source": [
        "matrix5 = np.ones([2,2])\n",
        "matrix5"
      ],
      "metadata": {
        "colab": {
          "base_uri": "https://localhost:8080/"
        },
        "id": "ShQKXZ3763pC",
        "outputId": "f05e75ec-00dd-4783-f438-41f39150994d"
      },
      "execution_count": null,
      "outputs": [
        {
          "output_type": "execute_result",
          "data": {
            "text/plain": [
              "array([[1., 1.],\n",
              "       [1., 1.]])"
            ]
          },
          "metadata": {},
          "execution_count": 4
        }
      ]
    },
    {
      "cell_type": "code",
      "source": [
        "# prompt: what is the use of Using np.eye()\n",
        "\n",
        "import numpy as np\n",
        "\n",
        "# Create a 3x3 identity matrix\n",
        "identity_matrix = np.eye(3)\n",
        "print(identity_matrix)\n",
        "\n",
        "# Explanation:\n",
        "# np.eye(n) creates an n x n identity matrix.\n",
        "# An identity matrix has 1s on the main diagonal and 0s everywhere else.\n",
        "# It's useful for linear algebra operations and matrix transformations.\n"
      ],
      "metadata": {
        "colab": {
          "base_uri": "https://localhost:8080/"
        },
        "id": "ObDQjd8ntOlF",
        "outputId": "e5516a97-fd54-4685-b2f7-aae88ab3a635"
      },
      "execution_count": null,
      "outputs": [
        {
          "output_type": "stream",
          "name": "stdout",
          "text": [
            "[[1. 0. 0.]\n",
            " [0. 1. 0.]\n",
            " [0. 0. 1.]]\n"
          ]
        }
      ]
    },
    {
      "cell_type": "code",
      "source": [
        "matrix6 = np.eye(4)\n",
        "print(matrix6)"
      ],
      "metadata": {
        "colab": {
          "base_uri": "https://localhost:8080/"
        },
        "id": "aGKr46_1teJd",
        "outputId": "08a6cd27-c271-4e83-e512-cb63250fddfe"
      },
      "execution_count": null,
      "outputs": [
        {
          "output_type": "stream",
          "name": "stdout",
          "text": [
            "[[1. 0. 0. 0.]\n",
            " [0. 1. 0. 0.]\n",
            " [0. 0. 1. 0.]\n",
            " [0. 0. 0. 1.]]\n"
          ]
        }
      ]
    },
    {
      "cell_type": "code",
      "source": [],
      "metadata": {
        "id": "zPrjcAIj_R4B"
      },
      "execution_count": null,
      "outputs": []
    },
    {
      "cell_type": "code",
      "source": [
        "vec = np.zeros([2,3])\n",
        "print(vec)"
      ],
      "metadata": {
        "colab": {
          "base_uri": "https://localhost:8080/"
        },
        "id": "uCn-IA2z9nYf",
        "outputId": "8577ee8f-0cfa-453c-edd8-9f4598e6d2b8"
      },
      "execution_count": null,
      "outputs": [
        {
          "output_type": "stream",
          "name": "stdout",
          "text": [
            "[[0. 0. 0.]\n",
            " [0. 0. 0.]]\n"
          ]
        }
      ]
    },
    {
      "cell_type": "code",
      "source": [
        "vec = np.linspace(10,20,3)\n",
        "vec1 = np.linspace(20,40,2)\n",
        "print(vec1)\n",
        "\n",
        "print(vec+vec1)"
      ],
      "metadata": {
        "colab": {
          "base_uri": "https://localhost:8080/",
          "height": 193
        },
        "id": "6tLde0JP9zEX",
        "outputId": "77b2a5c7-ba75-4a33-822f-b76f21d28ecb"
      },
      "execution_count": null,
      "outputs": [
        {
          "output_type": "stream",
          "name": "stdout",
          "text": [
            "[20. 40.]\n"
          ]
        },
        {
          "output_type": "error",
          "ename": "ValueError",
          "evalue": "operands could not be broadcast together with shapes (3,) (2,) ",
          "traceback": [
            "\u001b[0;31m---------------------------------------------------------------------------\u001b[0m",
            "\u001b[0;31mValueError\u001b[0m                                Traceback (most recent call last)",
            "\u001b[0;32m<ipython-input-75-3e09196f4ccf>\u001b[0m in \u001b[0;36m<cell line: 5>\u001b[0;34m()\u001b[0m\n\u001b[1;32m      3\u001b[0m \u001b[0mprint\u001b[0m\u001b[0;34m(\u001b[0m\u001b[0mvec1\u001b[0m\u001b[0;34m)\u001b[0m\u001b[0;34m\u001b[0m\u001b[0;34m\u001b[0m\u001b[0m\n\u001b[1;32m      4\u001b[0m \u001b[0;34m\u001b[0m\u001b[0m\n\u001b[0;32m----> 5\u001b[0;31m \u001b[0mprint\u001b[0m\u001b[0;34m(\u001b[0m\u001b[0mvec\u001b[0m\u001b[0;34m+\u001b[0m\u001b[0mvec1\u001b[0m\u001b[0;34m)\u001b[0m\u001b[0;34m\u001b[0m\u001b[0;34m\u001b[0m\u001b[0m\n\u001b[0m",
            "\u001b[0;31mValueError\u001b[0m: operands could not be broadcast together with shapes (3,) (2,) "
          ]
        }
      ]
    },
    {
      "cell_type": "code",
      "source": [
        "arr4 = np.arange(0,10)\n",
        "arr4"
      ],
      "metadata": {
        "colab": {
          "base_uri": "https://localhost:8080/"
        },
        "id": "5-0j2fha_CwU",
        "outputId": "744563ca-bfa6-4a75-d884-908c0a42f687"
      },
      "execution_count": null,
      "outputs": [
        {
          "output_type": "execute_result",
          "data": {
            "text/plain": [
              "array([0, 1, 2, 3, 4, 5, 6, 7, 8, 9])"
            ]
          },
          "metadata": {},
          "execution_count": 10
        }
      ]
    },
    {
      "cell_type": "code",
      "source": [
        "arr4_reshaped = arr4.reshape(2,5)\n",
        "arr4_reshaped"
      ],
      "metadata": {
        "colab": {
          "base_uri": "https://localhost:8080/"
        },
        "id": "JmUazb_G_Xc_",
        "outputId": "d44e8f81-defa-40ff-edd4-872bf92895d4"
      },
      "execution_count": null,
      "outputs": [
        {
          "output_type": "execute_result",
          "data": {
            "text/plain": [
              "array([[0, 1, 2, 3, 4],\n",
              "       [5, 6, 7, 8, 9]])"
            ]
          },
          "metadata": {},
          "execution_count": 18
        }
      ]
    },
    {
      "cell_type": "code",
      "source": [
        "arr5 = np.array([10,2,6])\n",
        "np.exp(arr5)"
      ],
      "metadata": {
        "colab": {
          "base_uri": "https://localhost:8080/"
        },
        "id": "FAR2WOOWCvy_",
        "outputId": "6a26bea1-ed41-4f1b-c176-76d8da111cb4"
      },
      "execution_count": null,
      "outputs": [
        {
          "output_type": "execute_result",
          "data": {
            "text/plain": [
              "array([2.20264658e+04, 7.38905610e+00, 4.03428793e+02])"
            ]
          },
          "metadata": {},
          "execution_count": 31
        }
      ]
    },
    {
      "cell_type": "code",
      "source": [
        "print('Sine function',np.sin(30))\n",
        "\n",
        "print('Cosine function',np.cos(30))\n",
        "print('Tan Function',np.tan(60))\n"
      ],
      "metadata": {
        "colab": {
          "base_uri": "https://localhost:8080/"
        },
        "id": "RO704zr8IH2T",
        "outputId": "743c9742-f1ef-45df-dc24-91738c0f4dd0"
      },
      "execution_count": null,
      "outputs": [
        {
          "output_type": "stream",
          "name": "stdout",
          "text": [
            "Sine function -0.9880316240928618\n",
            "Cosine function 0.15425144988758405\n",
            "Tan Function 0.320040389379563\n"
          ]
        }
      ]
    },
    {
      "cell_type": "code",
      "source": [
        "# prompt: why everything in np comes with more floating point numbers\n",
        "\n",
        "# NumPy often uses floating-point numbers because it's the default for many mathematical operations.\n",
        "# This is due to the nature of numerical computing and the way NumPy is designed to handle various mathematical functions and operations efficiently.\n",
        "\n",
        "# Here's why:\n",
        "\n",
        "# 1.  Mathematical Functions: Many mathematical functions in NumPy (like trigonometric functions, logarithms, etc.) are defined for floating-point numbers. Using floating-point numbers allows for a wider range of values and more precise calculations.\n",
        "\n",
        "# 2.  Compatibility with Other Libraries:  Floating-point numbers are the standard for scientific computing and data analysis.  This ensures compatibility with other libraries and tools that rely on floating-point numbers.\n",
        "\n",
        "# 3.  Efficiency: Floating-point operations are highly optimized in hardware and software, making computations faster.\n",
        "\n",
        "# 4.  Precision: While integers are suitable for discrete values, floating-point numbers offer greater precision for representing real-world data and calculations involving decimals.\n",
        "\n",
        "\n",
        "# To illustrate this, let's look at an example:\n",
        "import numpy as np\n",
        "\n",
        "arr = np.array([1, 2, 3])\n",
        "print(arr.dtype)  # Output: int64\n",
        "\n",
        "arr = np.array([1, 2, 3], dtype=float)\n",
        "print(arr.dtype)  # Output: float64\n",
        "\n",
        "# As you can see, by default, NumPy might infer the data type as int64. However, you can explicitly specify the data type as float64 if needed.\n"
      ],
      "metadata": {
        "id": "6WCBTYi5I09F"
      },
      "execution_count": null,
      "outputs": []
    },
    {
      "cell_type": "code",
      "source": [
        "# prompt: np.exp(2) , how and why\n",
        "\n",
        "import numpy as np\n",
        "\n",
        "result = np.exp(2)\n",
        "print(result)\n",
        "\n",
        "# Explanation:\n",
        "# np.exp(2) calculates the exponential value of 2.\n",
        "# It means e raised to the power of 2, where 'e' is the base of the natural logarithm (approximately 2.71828).\n",
        "# The result will be approximately 7.38905609893065.\n"
      ],
      "metadata": {
        "id": "dLpIJ-R_JZjm"
      },
      "execution_count": null,
      "outputs": []
    },
    {
      "cell_type": "code",
      "source": [
        "np.log(arr5)"
      ],
      "metadata": {
        "colab": {
          "base_uri": "https://localhost:8080/"
        },
        "id": "dJ_Lx-b8LTc9",
        "outputId": "191f73e2-e7d7-43e8-a625-a1d690db6584"
      },
      "execution_count": null,
      "outputs": [
        {
          "output_type": "execute_result",
          "data": {
            "text/plain": [
              "array([2.30258509, 0.69314718, 1.79175947])"
            ]
          },
          "metadata": {},
          "execution_count": 33
        }
      ]
    },
    {
      "cell_type": "code",
      "source": [
        "np.log10(8)"
      ],
      "metadata": {
        "colab": {
          "base_uri": "https://localhost:8080/"
        },
        "id": "F7kqwG7iLhLK",
        "outputId": "bf4f292d-f9e4-43f0-9b02-786ebaec6e64"
      },
      "execution_count": null,
      "outputs": [
        {
          "output_type": "execute_result",
          "data": {
            "text/plain": [
              "0.9030899869919435"
            ]
          },
          "metadata": {},
          "execution_count": 38
        }
      ]
    },
    {
      "cell_type": "code",
      "source": [
        "np.log(2)"
      ],
      "metadata": {
        "colab": {
          "base_uri": "https://localhost:8080/"
        },
        "id": "Tmrq4ppCKdPn",
        "outputId": "924e9b7a-645f-4bf9-c96a-88a8d80950d9"
      },
      "execution_count": null,
      "outputs": [
        {
          "output_type": "execute_result",
          "data": {
            "text/plain": [
              "0.6931471805599453"
            ]
          },
          "metadata": {},
          "execution_count": 32
        }
      ]
    },
    {
      "cell_type": "code",
      "source": [
        "vec1 = np.arange(0,12)\n",
        "print(vec1)\n",
        "vec2 = vec1.reshape(2,6)\n",
        "print(vec2)"
      ],
      "metadata": {
        "colab": {
          "base_uri": "https://localhost:8080/"
        },
        "id": "sN2xoT0oMAET",
        "outputId": "e60610b4-ede7-4fdd-8ba5-d73712832710"
      },
      "execution_count": null,
      "outputs": [
        {
          "output_type": "stream",
          "name": "stdout",
          "text": [
            "[ 0  1  2  3  4  5  6  7  8  9 10 11]\n",
            "[[ 0  1  2  3  4  5]\n",
            " [ 6  7  8  9 10 11]]\n"
          ]
        }
      ]
    },
    {
      "cell_type": "code",
      "source": [
        "vec = np.arange(0,5)\n",
        "print(vec)\n",
        "print(vec.reshape(1,5))"
      ],
      "metadata": {
        "colab": {
          "base_uri": "https://localhost:8080/"
        },
        "id": "brHlbnr7MyYQ",
        "outputId": "4c221af7-f322-4a00-ff0b-c0d0094b69ae"
      },
      "execution_count": null,
      "outputs": [
        {
          "output_type": "stream",
          "name": "stdout",
          "text": [
            "[0 1 2 3 4]\n",
            "[[0 1 2 3 4]]\n"
          ]
        }
      ]
    },
    {
      "cell_type": "code",
      "source": [
        "l1 = [1,2,3]\n",
        "l2 = [4,5,6]\n",
        "print(l1+l2)"
      ],
      "metadata": {
        "colab": {
          "base_uri": "https://localhost:8080/"
        },
        "id": "FbaGvO_7O__a",
        "outputId": "dabcf60b-3391-40e8-b648-5ddbf3180fe4"
      },
      "execution_count": null,
      "outputs": [
        {
          "output_type": "stream",
          "name": "stdout",
          "text": [
            "[1, 2, 3, 4, 5, 6]\n"
          ]
        }
      ]
    },
    {
      "cell_type": "code",
      "source": [
        "arr7 = np.arange(1,6)\n",
        "print('arr7:',arr7)\n",
        "\n",
        "arr8 = np.arange(3,8)\n",
        "print('arr8:',arr8)"
      ],
      "metadata": {
        "colab": {
          "base_uri": "https://localhost:8080/"
        },
        "id": "mAoDNJabPJ_r",
        "outputId": "a3bf2a41-4d82-49c2-d1f9-adf79a292ff2"
      },
      "execution_count": null,
      "outputs": [
        {
          "output_type": "stream",
          "name": "stdout",
          "text": [
            "arr7: [1 2 3 4 5]\n",
            "arr8: [3 4 5 6 7]\n"
          ]
        }
      ]
    },
    {
      "cell_type": "code",
      "source": [
        "print('Addition: ',arr7+arr8)\n",
        "print('Subtraction: ',arr8-arr7)\n",
        "print('Multiplication:' , arr7*arr8)\n",
        "print('Division:', arr7/arr8)\n",
        "print('Inverse:', 1/arr7)\n",
        "print('Powers:', arr7**arr8) # in python, powers are achieved using **, NOT ^!!! ^ does something completely different!"
      ],
      "metadata": {
        "colab": {
          "base_uri": "https://localhost:8080/"
        },
        "id": "wHt3ZllkSjLR",
        "outputId": "f936a1cd-8f1c-4798-909a-dc8662f5fcac"
      },
      "execution_count": null,
      "outputs": [
        {
          "output_type": "stream",
          "name": "stdout",
          "text": [
            "Addition:  [ 4  6  8 10 12]\n",
            "Subtraction:  [2 2 2 2 2]\n",
            "Multiplication: [ 3  8 15 24 35]\n",
            "Division: [0.33333333 0.5        0.6        0.66666667 0.71428571]\n",
            "Inverse: [1.         0.5        0.33333333 0.25       0.2       ]\n",
            "Powers: [    1    16   243  4096 78125]\n"
          ]
        }
      ]
    },
    {
      "cell_type": "code",
      "source": [
        "matrix7 =np.arange(1,10).reshape(3,3)\n",
        "print(matrix7)\n",
        "matrix8 = np.eye(3)\n",
        "print(matrix8)"
      ],
      "metadata": {
        "colab": {
          "base_uri": "https://localhost:8080/"
        },
        "id": "3GIQ_13XSvHq",
        "outputId": "14b412b7-1e20-4c4f-ce7c-18b84869c348"
      },
      "execution_count": null,
      "outputs": [
        {
          "output_type": "stream",
          "name": "stdout",
          "text": [
            "[[1 2 3]\n",
            " [4 5 6]\n",
            " [7 8 9]]\n",
            "[[1. 0. 0.]\n",
            " [0. 1. 0.]\n",
            " [0. 0. 1.]]\n"
          ]
        }
      ]
    },
    {
      "cell_type": "code",
      "source": [
        "print('Addition transpose: \\n',np.transpose(matrix7+matrix8))\n",
        "print('addition: \\n', matrix7+matrix8)\n",
        "print('Subtraction: \\n ', matrix7-matrix8)\n",
        "print('Multiplication: \\n', matrix7*matrix8)\n",
        "print('Division: \\n', matrix7/matrix8)"
      ],
      "metadata": {
        "colab": {
          "base_uri": "https://localhost:8080/"
        },
        "id": "FHe836vfTk2C",
        "outputId": "54ac580a-703c-4520-c438-1af1cf4edb1f"
      },
      "execution_count": null,
      "outputs": [
        {
          "output_type": "stream",
          "name": "stdout",
          "text": [
            "Addition transpose: \n",
            " [[ 2.  4.  7.]\n",
            " [ 2.  6.  8.]\n",
            " [ 3.  6. 10.]]\n",
            "addition: \n",
            " [[ 2.  2.  3.]\n",
            " [ 4.  6.  6.]\n",
            " [ 7.  8. 10.]]\n",
            "Subtraction: \n",
            "  [[0. 2. 3.]\n",
            " [4. 4. 6.]\n",
            " [7. 8. 8.]]\n",
            "Multiplication: \n",
            " [[1. 0. 0.]\n",
            " [0. 5. 0.]\n",
            " [0. 0. 9.]]\n",
            "Division: \n",
            " [[ 1. inf inf]\n",
            " [inf  5. inf]\n",
            " [inf inf  9.]]\n"
          ]
        },
        {
          "output_type": "stream",
          "name": "stderr",
          "text": [
            "<ipython-input-69-acded3ad6175>:5: RuntimeWarning: divide by zero encountered in divide\n",
            "  print('Division: \\n', matrix7/matrix8)\n"
          ]
        }
      ]
    },
    {
      "cell_type": "code",
      "source": [
        "matrix7 = np.arange(1,10).reshape(3,3)\n",
        "print(matrix7)\n",
        "\n",
        "matrix8 = np.eye(3)\n",
        "print(matrix8)"
      ],
      "metadata": {
        "id": "VFHw1gjQfQf_"
      },
      "execution_count": null,
      "outputs": []
    },
    {
      "cell_type": "code",
      "source": [
        "veec = np.arange(2,5,1)\n",
        "print(1/veec)\n",
        "print(veec**2)"
      ],
      "metadata": {
        "colab": {
          "base_uri": "https://localhost:8080/"
        },
        "id": "8Ras0RW_2yAQ",
        "outputId": "38c93a50-ae7d-4f00-b2fc-f549046b09de"
      },
      "execution_count": null,
      "outputs": [
        {
          "output_type": "stream",
          "name": "stdout",
          "text": [
            "[0.5        0.33333333 0.25      ]\n",
            "[ 4  9 16]\n"
          ]
        }
      ]
    },
    {
      "cell_type": "code",
      "source": [
        "mat1 = np.arange(1,5).reshape(2,2)\n",
        "mat2 = np.eye(2)\n",
        "print(mat1/mat2)"
      ],
      "metadata": {
        "colab": {
          "base_uri": "https://localhost:8080/"
        },
        "id": "cFxQG_FVSiWM",
        "outputId": "409cae5c-c128-4cdb-d911-4aad76fe702a"
      },
      "execution_count": null,
      "outputs": [
        {
          "output_type": "stream",
          "name": "stdout",
          "text": [
            "[[ 1. inf]\n",
            " [inf  4.]]\n"
          ]
        },
        {
          "output_type": "stream",
          "name": "stderr",
          "text": [
            "<ipython-input-84-0e6adcba2ca7>:3: RuntimeWarning: divide by zero encountered in divide\n",
            "  print(mat1/mat2)\n"
          ]
        }
      ]
    },
    {
      "cell_type": "code",
      "source": [
        "0.25*2"
      ],
      "metadata": {
        "colab": {
          "base_uri": "https://localhost:8080/"
        },
        "id": "inbyiU28R374",
        "outputId": "8d6930a2-669b-43b8-eeac-59985bd72106"
      },
      "execution_count": null,
      "outputs": [
        {
          "output_type": "execute_result",
          "data": {
            "text/plain": [
              "0.5"
            ]
          },
          "metadata": {},
          "execution_count": 79
        }
      ]
    },
    {
      "cell_type": "code",
      "source": [
        "0.5*2"
      ],
      "metadata": {
        "colab": {
          "base_uri": "https://localhost:8080/"
        },
        "id": "kb3kRRxuR8fX",
        "outputId": "b61b06fb-725c-4207-a719-692c03e485ec"
      },
      "execution_count": null,
      "outputs": [
        {
          "output_type": "execute_result",
          "data": {
            "text/plain": [
              "1.0"
            ]
          },
          "metadata": {},
          "execution_count": 80
        }
      ]
    },
    {
      "cell_type": "code",
      "source": [
        "rand_mat = np.random.randn(5)\n",
        "print(rand_mat)"
      ],
      "metadata": {
        "colab": {
          "base_uri": "https://localhost:8080/"
        },
        "id": "rHVMG1iUnQwF",
        "outputId": "62f703a7-6333-4097-e173-ad37710fc376"
      },
      "execution_count": null,
      "outputs": [
        {
          "output_type": "stream",
          "name": "stdout",
          "text": [
            "[-0.18573995  0.2154751   0.23664706  0.46837086 -0.30108808]\n"
          ]
        }
      ]
    },
    {
      "cell_type": "code",
      "source": [
        "rand_mat2 = np.random.rand(5)\n",
        "print(rand_mat2)"
      ],
      "metadata": {
        "colab": {
          "base_uri": "https://localhost:8080/"
        },
        "id": "EWGGG9_mn92p",
        "outputId": "c1ae048c-7f9a-409c-9c5e-30195453d88d"
      },
      "execution_count": null,
      "outputs": [
        {
          "output_type": "stream",
          "name": "stdout",
          "text": [
            "[0.22803719 0.98893504 0.68396906 0.7979226  0.11277643]\n"
          ]
        }
      ]
    },
    {
      "cell_type": "code",
      "source": [
        "rand_mat = np.random.randn(5,5)\n",
        "print(rand_mat)"
      ],
      "metadata": {
        "colab": {
          "base_uri": "https://localhost:8080/"
        },
        "id": "cFwXRqSkoBlM",
        "outputId": "3d2311d3-d9c2-4ae3-c69c-4741883b8c51"
      },
      "execution_count": null,
      "outputs": [
        {
          "output_type": "stream",
          "name": "stdout",
          "text": [
            "[[ 0.1527305   1.10241297 -0.06482158 -0.72423698  1.32944484]\n",
            " [ 0.19751992 -0.54389682 -0.4049916  -2.23888652 -2.19089248]\n",
            " [-0.60097248  0.74918037 -0.93624118 -0.71758916 -0.0912532 ]\n",
            " [ 0.23619711 -0.13290724 -1.1624427  -0.43542412 -1.299046  ]\n",
            " [-0.63402732  1.07610857 -0.85721652 -2.68582467 -0.53857891]]\n"
          ]
        }
      ]
    },
    {
      "cell_type": "code",
      "source": [
        "print(np.mean(rand_mat2))\n",
        "print(np.std(rand_mat2))"
      ],
      "metadata": {
        "colab": {
          "base_uri": "https://localhost:8080/"
        },
        "id": "yu5Ghz5QoZBO",
        "outputId": "25d08dac-61b1-40fb-f2e0-bef3e64347af"
      },
      "execution_count": null,
      "outputs": [
        {
          "output_type": "stream",
          "name": "stdout",
          "text": [
            "0.5623280613964007\n",
            "0.33649424648743237\n"
          ]
        }
      ]
    },
    {
      "cell_type": "code",
      "source": [
        "rand_mat3=np.random.randint(1,5,10)\n",
        "print(rand_mat3)"
      ],
      "metadata": {
        "colab": {
          "base_uri": "https://localhost:8080/"
        },
        "id": "n7W8MLZ4pG5A",
        "outputId": "524dc82d-a3ae-4eb7-beb5-1829ce53a48a"
      },
      "execution_count": 4,
      "outputs": [
        {
          "output_type": "stream",
          "name": "stdout",
          "text": [
            "[3 2 4 4 2 3 4 1 3 3]\n"
          ]
        }
      ]
    },
    {
      "cell_type": "code",
      "source": [],
      "metadata": {
        "id": "MfZDhDDlpRX8"
      },
      "execution_count": null,
      "outputs": []
    },
    {
      "cell_type": "code",
      "source": [
        "rand_mat3=np.random.randint(1,10,[5,5])\n",
        "print(rand_mat3)"
      ],
      "metadata": {
        "colab": {
          "base_uri": "https://localhost:8080/"
        },
        "outputId": "3fc3f248-f25c-4e4a-b149-d364d06fcc00",
        "id": "fKgzu65rpk3B"
      },
      "execution_count": 5,
      "outputs": [
        {
          "output_type": "stream",
          "name": "stdout",
          "text": [
            "[[3 8 2 7 5]\n",
            " [8 6 7 4 1]\n",
            " [9 5 9 6 6]\n",
            " [1 9 9 5 9]\n",
            " [7 4 8 7 1]]\n"
          ]
        }
      ]
    },
    {
      "cell_type": "code",
      "source": [
        "mat1 = np.arange(-9,0,1).reshape(3,3)\n",
        "print(mat1)\n",
        "print(np.min(mat1))\n",
        "print(np.max(mat1))"
      ],
      "metadata": {
        "colab": {
          "base_uri": "https://localhost:8080/"
        },
        "id": "DNW4umSep_dE",
        "outputId": "acc9225a-f7ed-477e-e4f3-52c8b1714ebf"
      },
      "execution_count": null,
      "outputs": [
        {
          "output_type": "stream",
          "name": "stdout",
          "text": [
            "[[-9 -8 -7]\n",
            " [-6 -5 -4]\n",
            " [-3 -2 -1]]\n",
            "-9\n",
            "-1\n"
          ]
        }
      ]
    },
    {
      "cell_type": "code",
      "source": [
        "rand_arr = np.random.randn(10)\n",
        "print(rand_arr)"
      ],
      "metadata": {
        "colab": {
          "base_uri": "https://localhost:8080/"
        },
        "id": "vmlig2QwxcLd",
        "outputId": "97cdc66d-8c76-4c70-f0ba-ed03450e28bf"
      },
      "execution_count": null,
      "outputs": [
        {
          "output_type": "stream",
          "name": "stdout",
          "text": [
            "[-0.85963106 -0.18092958  0.67766152  1.1387774  -1.00989886 -1.11470844\n",
            " -1.88615618 -0.9415078   0.1923508   0.88548301]\n"
          ]
        }
      ]
    },
    {
      "cell_type": "code",
      "source": [
        "print(rand_arr[6])"
      ],
      "metadata": {
        "colab": {
          "base_uri": "https://localhost:8080/"
        },
        "id": "02DUE-uPxtnt",
        "outputId": "4429072b-7aa3-4e3a-8c4b-e02a7b422870"
      },
      "execution_count": null,
      "outputs": [
        {
          "output_type": "stream",
          "name": "stdout",
          "text": [
            "0.9359749929087581\n"
          ]
        }
      ]
    },
    {
      "cell_type": "code",
      "source": [
        "print(rand_arr[4:9])"
      ],
      "metadata": {
        "colab": {
          "base_uri": "https://localhost:8080/"
        },
        "id": "2zpWVeDDx8nh",
        "outputId": "bc8ca3fc-2a19-4c7f-9e71-e8c9750546c0"
      },
      "execution_count": null,
      "outputs": [
        {
          "output_type": "stream",
          "name": "stdout",
          "text": [
            "[-0.88759036  0.46493157  0.93597499 -0.67094174  1.4345913 ]\n"
          ]
        }
      ]
    },
    {
      "cell_type": "code",
      "source": [
        "print('Index of values to access: ',np.arange(3,10,3))\n",
        "print(rand_arr[np.arange(3,10,3)])"
      ],
      "metadata": {
        "colab": {
          "base_uri": "https://localhost:8080/"
        },
        "id": "HqS492-pyRgo",
        "outputId": "d8363e00-4ca6-4d46-dc36-b6de4dd3e38c"
      },
      "execution_count": null,
      "outputs": [
        {
          "output_type": "stream",
          "name": "stdout",
          "text": [
            "Index of values to access:  [3 6 9]\n",
            "[-0.15694803  0.93597499 -0.59469591]\n"
          ]
        }
      ]
    },
    {
      "cell_type": "code",
      "source": [
        "print(rand_arr)"
      ],
      "metadata": {
        "colab": {
          "base_uri": "https://localhost:8080/"
        },
        "id": "t5br-XfszjZE",
        "outputId": "f2a77c61-e465-4510-b835-4783bd260371"
      },
      "execution_count": null,
      "outputs": [
        {
          "output_type": "stream",
          "name": "stdout",
          "text": [
            "[ 0.51965182 -0.54848652  0.93328396 -0.15694803 -0.88759036  0.46493157\n",
            "  0.93597499 -0.67094174  1.4345913  -0.59469591]\n"
          ]
        }
      ]
    },
    {
      "cell_type": "code",
      "source": [
        "rand_arr>0"
      ],
      "metadata": {
        "colab": {
          "base_uri": "https://localhost:8080/"
        },
        "id": "OPYp1mRzz6Kg",
        "outputId": "a044180f-5f62-4356-bcaf-0db34571a0fb"
      },
      "execution_count": null,
      "outputs": [
        {
          "output_type": "execute_result",
          "data": {
            "text/plain": [
              "array([ True, False,  True, False, False,  True,  True, False,  True,\n",
              "       False])"
            ]
          },
          "metadata": {},
          "execution_count": 21
        }
      ]
    },
    {
      "cell_type": "code",
      "source": [
        "rand_arr < 0"
      ],
      "metadata": {
        "id": "wb9NMaFt0Haw",
        "outputId": "3648dad0-7b82-4a2c-e981-aaeb3bc1b9e9",
        "colab": {
          "base_uri": "https://localhost:8080/"
        }
      },
      "execution_count": null,
      "outputs": [
        {
          "output_type": "execute_result",
          "data": {
            "text/plain": [
              "array([False,  True, False,  True,  True, False, False,  True, False,\n",
              "        True])"
            ]
          },
          "metadata": {},
          "execution_count": 22
        }
      ]
    },
    {
      "cell_type": "code",
      "source": [
        "# prompt: what is rand and randn\n",
        "\n",
        "# np.random.rand(n) generates an array of n random numbers uniformly distributed between 0 and 1.\n",
        "# Example:\n",
        "rand_mat2 = np.random.rand(5)\n",
        "print(rand_mat2)\n",
        "\n",
        "# np.random.randn(n) generates an array of n random numbers from the standard normal distribution (mean 0, variance 1).\n",
        "# Example:\n",
        "rand_mat = np.random.randn(5)\n",
        "print(rand_mat)\n"
      ],
      "metadata": {
        "colab": {
          "base_uri": "https://localhost:8080/"
        },
        "id": "sAyezX29fiyG",
        "outputId": "304ada5d-6f54-4424-91e7-87a2838e3308"
      },
      "execution_count": null,
      "outputs": [
        {
          "output_type": "stream",
          "name": "stdout",
          "text": [
            "[0.77779466 0.33742638 0.88135179 0.87037203 0.45493473]\n",
            "[ 1.24646011 -0.67627726  0.52810239  0.77669637  0.53859691]\n"
          ]
        }
      ]
    },
    {
      "cell_type": "code",
      "source": [
        "rand_mat = np.random.randn(5,5)\n",
        "print(rand_mat)"
      ],
      "metadata": {
        "colab": {
          "base_uri": "https://localhost:8080/"
        },
        "id": "0ZUrz9FXgEd9",
        "outputId": "a9b15685-b4e0-47e6-a01a-8573737d6a4b"
      },
      "execution_count": null,
      "outputs": [
        {
          "output_type": "stream",
          "name": "stdout",
          "text": [
            "[[-0.61256465  3.01948589  1.62897345 -0.02786428 -0.64398957]\n",
            " [ 0.00701759  1.8255322  -0.25623488  1.39796888  2.0065455 ]\n",
            " [-1.54025889  0.25422903 -1.34589915  0.5359942  -0.74825582]\n",
            " [-0.77858219 -1.59906044  1.44702477  1.34960827  0.11078514]\n",
            " [ 0.72174153 -0.68999413  0.69589443 -0.3879187  -0.78007918]]\n"
          ]
        }
      ]
    },
    {
      "cell_type": "code",
      "source": [
        "rand_mat[1]"
      ],
      "metadata": {
        "colab": {
          "base_uri": "https://localhost:8080/"
        },
        "id": "o18ZbPKWgLi5",
        "outputId": "074eaac1-4a8e-4eb9-e834-e3076241f8d5"
      },
      "execution_count": null,
      "outputs": [
        {
          "output_type": "execute_result",
          "data": {
            "text/plain": [
              "array([ 0.00701759,  1.8255322 , -0.25623488,  1.39796888,  2.0065455 ])"
            ]
          },
          "metadata": {},
          "execution_count": 5
        }
      ]
    },
    {
      "cell_type": "code",
      "source": [
        "print(rand_mat[1][2])"
      ],
      "metadata": {
        "colab": {
          "base_uri": "https://localhost:8080/"
        },
        "id": "2hNktlQZgQCB",
        "outputId": "855ac17f-54f8-4338-bbc0-c210afa51454"
      },
      "execution_count": null,
      "outputs": [
        {
          "output_type": "stream",
          "name": "stdout",
          "text": [
            "-0.25623488365068314\n"
          ]
        }
      ]
    },
    {
      "cell_type": "code",
      "source": [
        "print(rand_mat[0:2,1:3])"
      ],
      "metadata": {
        "colab": {
          "base_uri": "https://localhost:8080/"
        },
        "id": "a7YgNCOFgisY",
        "outputId": "5f3e542d-3e1f-4469-b59a-79ac03d3aca2"
      },
      "execution_count": null,
      "outputs": [
        {
          "output_type": "stream",
          "name": "stdout",
          "text": [
            "[[ 3.01948589  1.62897345]\n",
            " [ 1.8255322  -0.25623488]]\n"
          ]
        }
      ]
    },
    {
      "cell_type": "code",
      "source": [
        "print(rand_mat)"
      ],
      "metadata": {
        "colab": {
          "base_uri": "https://localhost:8080/"
        },
        "id": "NHPPbiD6iM_S",
        "outputId": "0702a71b-d726-4107-d724-6e4995834930"
      },
      "execution_count": null,
      "outputs": [
        {
          "output_type": "stream",
          "name": "stdout",
          "text": [
            "[[-0.61256465  3.01948589  1.62897345 -0.02786428 -0.64398957]\n",
            " [ 0.00701759  1.8255322  -0.25623488  1.39796888  2.0065455 ]\n",
            " [-1.54025889  0.25422903 -1.34589915  0.5359942  -0.74825582]\n",
            " [-0.77858219 -1.59906044  1.44702477  1.34960827  0.11078514]\n",
            " [ 0.72174153 -0.68999413  0.69589443 -0.3879187  -0.78007918]]\n"
          ]
        }
      ]
    },
    {
      "cell_type": "code",
      "source": [
        "print([rand_mat >0])"
      ],
      "metadata": {
        "colab": {
          "base_uri": "https://localhost:8080/"
        },
        "id": "XxXCNlbAiRLq",
        "outputId": "6dbb5321-e776-4207-dab3-010e99ce9e0c"
      },
      "execution_count": null,
      "outputs": [
        {
          "output_type": "stream",
          "name": "stdout",
          "text": [
            "[array([[False,  True,  True, False, False],\n",
            "       [ True,  True, False,  True,  True],\n",
            "       [False,  True, False,  True, False],\n",
            "       [False, False,  True,  True,  True],\n",
            "       [ True, False,  True, False, False]])]\n"
          ]
        }
      ]
    },
    {
      "cell_type": "code",
      "source": [
        "print([rand_mat<0])"
      ],
      "metadata": {
        "colab": {
          "base_uri": "https://localhost:8080/"
        },
        "id": "vN8YP5F0ieiS",
        "outputId": "127aa03a-36d7-413d-9bdc-e7ec6a4cb5a7"
      },
      "execution_count": null,
      "outputs": [
        {
          "output_type": "stream",
          "name": "stdout",
          "text": [
            "[array([[ True, False, False,  True,  True],\n",
            "       [False, False,  True, False, False],\n",
            "       [ True, False,  True, False,  True],\n",
            "       [ True,  True, False, False, False],\n",
            "       [False,  True, False,  True,  True]])]\n"
          ]
        }
      ]
    },
    {
      "cell_type": "code",
      "source": [
        "print(rand_mat[rand_mat>0])"
      ],
      "metadata": {
        "colab": {
          "base_uri": "https://localhost:8080/"
        },
        "id": "pCma_at6ikbn",
        "outputId": "fe561023-12fe-44f2-8bbf-0ba40a7b7289"
      },
      "execution_count": null,
      "outputs": [
        {
          "output_type": "stream",
          "name": "stdout",
          "text": [
            "[3.01948589 1.62897345 0.00701759 1.8255322  1.39796888 2.0065455\n",
            " 0.25422903 0.5359942  1.44702477 1.34960827 0.11078514 0.72174153\n",
            " 0.69589443]\n"
          ]
        }
      ]
    },
    {
      "cell_type": "code",
      "source": [
        "print(rand_arr)"
      ],
      "metadata": {
        "colab": {
          "base_uri": "https://localhost:8080/"
        },
        "id": "bnwW5qZ-jeFs",
        "outputId": "012c81b5-569d-47fa-c041-e777ebfadac9"
      },
      "execution_count": null,
      "outputs": [
        {
          "output_type": "stream",
          "name": "stdout",
          "text": [
            "[-0.85963106 -0.18092958  0.67766152  1.1387774  -1.00989886 -1.11470844\n",
            " -1.88615618 -0.9415078   0.1923508   0.88548301]\n"
          ]
        }
      ]
    },
    {
      "cell_type": "code",
      "source": [
        "rand_arr[5] =9\n",
        "print(rand_arr)"
      ],
      "metadata": {
        "colab": {
          "base_uri": "https://localhost:8080/"
        },
        "id": "REt2LO2tjvY5",
        "outputId": "56b28528-663e-4713-d796-1905360dc138"
      },
      "execution_count": null,
      "outputs": [
        {
          "output_type": "stream",
          "name": "stdout",
          "text": [
            "[-0.85963106 -0.18092958  0.67766152  1.1387774  -1.00989886  9.\n",
            " -1.88615618 -0.9415078   0.1923508   0.88548301]\n"
          ]
        }
      ]
    },
    {
      "cell_type": "code",
      "source": [
        "rand_arr[2:4] = 5\n",
        "print(rand_arr)"
      ],
      "metadata": {
        "colab": {
          "base_uri": "https://localhost:8080/"
        },
        "id": "nt12epHlj7Po",
        "outputId": "7bf01275-ff36-48c2-a4ab-379b8d406c59"
      },
      "execution_count": null,
      "outputs": [
        {
          "output_type": "stream",
          "name": "stdout",
          "text": [
            "[-0.85963106 -0.18092958  5.          5.         -1.00989886  9.\n",
            " -1.88615618 -0.9415078   0.1923508   0.88548301]\n"
          ]
        }
      ]
    },
    {
      "cell_type": "code",
      "source": [
        "matrix = np.array([[1,2,3],[4,5,6],[7,8,9]])\n",
        "print(matrix[1][1])"
      ],
      "metadata": {
        "colab": {
          "base_uri": "https://localhost:8080/"
        },
        "id": "Ahuvrbc6PNQb",
        "outputId": "a442aac9-68b4-4e67-bba8-cc5a48236811"
      },
      "execution_count": null,
      "outputs": [
        {
          "output_type": "stream",
          "name": "stdout",
          "text": [
            "5\n"
          ]
        }
      ]
    },
    {
      "cell_type": "code",
      "source": [
        "print(rand_mat3)"
      ],
      "metadata": {
        "colab": {
          "base_uri": "https://localhost:8080/"
        },
        "id": "Mwb1IZjhd7X_",
        "outputId": "cb2089a3-7f11-437b-e282-10be2b926fc4"
      },
      "execution_count": 6,
      "outputs": [
        {
          "output_type": "stream",
          "name": "stdout",
          "text": [
            "[[3 8 2 7 5]\n",
            " [8 6 7 4 1]\n",
            " [9 5 9 6 6]\n",
            " [1 9 9 5 9]\n",
            " [7 4 8 7 1]]\n"
          ]
        }
      ]
    },
    {
      "cell_type": "code",
      "source": [],
      "metadata": {
        "id": "ijUjhlDIeX-S"
      },
      "execution_count": null,
      "outputs": []
    },
    {
      "cell_type": "markdown",
      "source": [
        "# changing the values of the 4th and 5th element of the second and third rows of the matrix to 0"
      ],
      "metadata": {
        "id": "GSVNeor5rmF2"
      }
    },
    {
      "cell_type": "code",
      "source": [
        "print('Matrix before modification: \\n',rand_mat3)\n",
        "rand_mat3[1:3,3:5] = 0\n",
        "print('Matrix after modification: \\n',rand_mat3)"
      ],
      "metadata": {
        "colab": {
          "base_uri": "https://localhost:8080/"
        },
        "id": "kX8hEIrIrm6T",
        "outputId": "cf61bd42-506d-4206-b11a-ff25d1576cd3"
      },
      "execution_count": 7,
      "outputs": [
        {
          "output_type": "stream",
          "name": "stdout",
          "text": [
            "Matrix before modification: \n",
            " [[3 8 2 7 5]\n",
            " [8 6 7 4 1]\n",
            " [9 5 9 6 6]\n",
            " [1 9 9 5 9]\n",
            " [7 4 8 7 1]]\n",
            "Matrix after modification: \n",
            " [[3 8 2 7 5]\n",
            " [8 6 7 0 0]\n",
            " [9 5 9 0 0]\n",
            " [1 9 9 5 9]\n",
            " [7 4 8 7 1]]\n"
          ]
        }
      ]
    },
    {
      "cell_type": "code",
      "source": [
        "matrix = np.arange(1,10).reshape(3,3)\n",
        "matrix[0:2,1:2] = 0\n",
        "print(matrix)"
      ],
      "metadata": {
        "colab": {
          "base_uri": "https://localhost:8080/"
        },
        "id": "x-2dB_xytKFB",
        "outputId": "91a695be-0369-4c36-ebf1-f8231a64413b"
      },
      "execution_count": 8,
      "outputs": [
        {
          "output_type": "stream",
          "name": "stdout",
          "text": [
            "[[1 0 3]\n",
            " [4 0 6]\n",
            " [7 8 9]]\n"
          ]
        }
      ]
    },
    {
      "cell_type": "code",
      "source": [],
      "metadata": {
        "id": "BPnFFlOeu6ge"
      },
      "execution_count": null,
      "outputs": []
    }
  ]
}
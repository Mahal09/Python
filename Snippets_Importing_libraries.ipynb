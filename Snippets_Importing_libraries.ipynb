{
  "cells": [
    {
      "cell_type": "markdown",
      "metadata": {
        "id": "view-in-github",
        "colab_type": "text"
      },
      "source": [
        "<a href=\"https://colab.research.google.com/github/Mahal09/Python/blob/main/Snippets_Importing_libraries.ipynb\" target=\"_parent\"><img src=\"https://colab.research.google.com/assets/colab-badge.svg\" alt=\"Open In Colab\"/></a>"
      ]
    },
    {
      "cell_type": "markdown",
      "metadata": {
        "id": "kDn_lVxg3Z2G"
      },
      "source": [
        "# Importing a library that is not in Colaboratory\n",
        "\n",
        "To import a library that's not in Colaboratory by default, you can use `!pip install` or `!apt-get install`."
      ]
    },
    {
      "cell_type": "code",
      "execution_count": null,
      "metadata": {
        "id": "GQ18Kd5F3uKe"
      },
      "outputs": [],
      "source": [
        "!pip install matplotlib-venn"
      ]
    },
    {
      "cell_type": "code",
      "execution_count": null,
      "metadata": {
        "id": "__3eqm3q3sr-"
      },
      "outputs": [],
      "source": [
        "!apt-get -qq install -y libfluidsynth1"
      ]
    },
    {
      "cell_type": "markdown",
      "metadata": {
        "id": "apoRbfWsRZ7S"
      },
      "source": [
        "# Install 7zip reader [libarchive](https://pypi.python.org/pypi/libarchive)"
      ]
    },
    {
      "cell_type": "code",
      "execution_count": null,
      "metadata": {
        "id": "d_j7nNbKRmhx"
      },
      "outputs": [],
      "source": [
        "# https://pypi.python.org/pypi/libarchive\n",
        "!apt-get -qq install -y libarchive-dev && pip install -U libarchive\n",
        "import libarchive"
      ]
    },
    {
      "cell_type": "markdown",
      "metadata": {
        "id": "PeaSX9KXR58J"
      },
      "source": [
        "# Install GraphViz & [PyDot](https://pypi.python.org/pypi/pydot)"
      ]
    },
    {
      "cell_type": "code",
      "execution_count": null,
      "metadata": {
        "id": "w9llCG2wSRDx"
      },
      "outputs": [],
      "source": [
        "# https://pypi.python.org/pypi/pydot\n",
        "!apt-get -qq install -y graphviz && pip install pydot\n",
        "import pydot"
      ]
    },
    {
      "cell_type": "markdown",
      "metadata": {
        "id": "Tlh1MKxGrKFO"
      },
      "source": [
        "# Install [cartopy](http://scitools.org.uk/cartopy/docs/latest/)"
      ]
    },
    {
      "cell_type": "code",
      "source": [
        "prec_on_time = [0.62, 0.78, 0.20, 0.32, 0.85]\n",
        "credit_score = [650, 723, 581, 462, 773]   # list for storing credit score\n",
        "age_of_customer = [25, 28, 38, 41, 62]     # list for storing age of the customer\n",
        "debt_status = ['no-debt', 'no-debt', 'no-debt', 'in-debt', 'no-debt']  # list to store the debt status\n",
        "no_of_existing_credit_cards = [3, 2, 4, 1, 2]\n",
        "cid = ['cid-0001', 'cid-0002', 'cid-0003', 'cid-0004', 'cid-0005']\n",
        "\n",
        "\n",
        "for i in range(0,5):\n",
        "  if prec_on_time[i]<0.4:\n",
        "    credit_score[i]=round(credit_score[i]*.98)\n",
        "    print('Credit score updated for',cid[i])\n",
        "  else:\n",
        "    print('Credit score is same for',cid[i])"
      ],
      "metadata": {
        "colab": {
          "base_uri": "https://localhost:8080/"
        },
        "id": "1UVdsODQ_zZZ",
        "outputId": "2719cede-d21f-41b8-e8c4-4ccce4a52335"
      },
      "execution_count": 6,
      "outputs": [
        {
          "output_type": "stream",
          "name": "stdout",
          "text": [
            "Credit score is same for cid-0001\n",
            "Credit score is same for cid-0002\n",
            "Credit score updated for cid-0003\n",
            "Credit score updated for cid-0004\n",
            "Credit score is same for cid-0005\n"
          ]
        }
      ]
    },
    {
      "cell_type": "code",
      "source": [
        "count =0\n",
        "\n",
        "for i in range(0,len(cid)):\n",
        "  if(no_of_existing_credit_cards[i]>2):\n",
        "    count+=1\n",
        "print(\"Number of ppl having more than 2 credit cards:\",count)"
      ],
      "metadata": {
        "colab": {
          "base_uri": "https://localhost:8080/"
        },
        "id": "W8lj7EJ9CoIk",
        "outputId": "48ef8dd9-841b-40b9-cabb-3bd0743e6a6b"
      },
      "execution_count": 8,
      "outputs": [
        {
          "output_type": "stream",
          "name": "stdout",
          "text": [
            "Number of ppl having more than 2 credit cards: 2\n"
          ]
        }
      ]
    },
    {
      "cell_type": "code",
      "source": [
        "count =0\n",
        "\n",
        "for (i in range())\n"
      ],
      "metadata": {
        "id": "dlOLnogHCoV_"
      },
      "execution_count": null,
      "outputs": []
    },
    {
      "cell_type": "markdown",
      "source": [],
      "metadata": {
        "id": "vVEGWIWXSRaC"
      }
    },
    {
      "cell_type": "code",
      "source": [],
      "metadata": {
        "id": "fkj9rvEXCocF"
      },
      "execution_count": null,
      "outputs": []
    },
    {
      "cell_type": "code",
      "source": [],
      "metadata": {
        "id": "j5SLwqTtCoge"
      },
      "execution_count": null,
      "outputs": []
    },
    {
      "cell_type": "code",
      "source": [],
      "metadata": {
        "id": "0hjR1rjOZCeO"
      },
      "execution_count": null,
      "outputs": []
    },
    {
      "cell_type": "markdown",
      "source": [],
      "metadata": {
        "id": "R9r8cPGCZEjK"
      }
    },
    {
      "cell_type": "code",
      "source": [
        "is_billed =True\n",
        "print(is_billed)\n"
      ],
      "metadata": {
        "colab": {
          "base_uri": "https://localhost:8080/"
        },
        "id": "f1Puqd1zZohh",
        "outputId": "785c329c-0e6f-4b9e-c9d9-cca551d33906"
      },
      "execution_count": 6,
      "outputs": [
        {
          "output_type": "stream",
          "name": "stdout",
          "text": [
            "True\n"
          ]
        }
      ]
    },
    {
      "cell_type": "code",
      "source": [
        "ram=4\n",
        "brand= 'Apple'\n",
        "storage= 6\n",
        "\n",
        "type(is_billed)"
      ],
      "metadata": {
        "colab": {
          "base_uri": "https://localhost:8080/"
        },
        "id": "jxvXn99RkhE2",
        "outputId": "552db694-7912-4124-810f-b58e12a0502c"
      },
      "execution_count": 9,
      "outputs": [
        {
          "output_type": "execute_result",
          "data": {
            "text/plain": [
              "bool"
            ]
          },
          "metadata": {},
          "execution_count": 9
        }
      ]
    },
    {
      "cell_type": "code",
      "source": [
        "type(brand)\n"
      ],
      "metadata": {
        "colab": {
          "base_uri": "https://localhost:8080/"
        },
        "id": "kIuxK-fEk5xQ",
        "outputId": "b450b83a-0283-4d30-bd8b-39e9bf93f4f6"
      },
      "execution_count": 10,
      "outputs": [
        {
          "output_type": "execute_result",
          "data": {
            "text/plain": [
              "str"
            ]
          },
          "metadata": {},
          "execution_count": 10
        }
      ]
    },
    {
      "cell_type": "code",
      "source": [
        "type(ram)\n"
      ],
      "metadata": {
        "colab": {
          "base_uri": "https://localhost:8080/"
        },
        "id": "kHS7LCUMk8cb",
        "outputId": "8a67d386-4eb4-4d69-d407-42c3dce0f265"
      },
      "execution_count": 11,
      "outputs": [
        {
          "output_type": "execute_result",
          "data": {
            "text/plain": [
              "int"
            ]
          },
          "metadata": {},
          "execution_count": 11
        }
      ]
    },
    {
      "cell_type": "markdown",
      "source": [],
      "metadata": {
        "id": "FbYsE2ePZspE"
      }
    },
    {
      "cell_type": "code",
      "source": [
        "%%shell\n",
        "/PythonForDataScience_intro-1.ipynb"
      ],
      "metadata": {
        "colab": {
          "base_uri": "https://localhost:8080/",
          "height": 775
        },
        "id": "zBXX8296Zs20",
        "outputId": "a4111a4a-e5f6-4870-e241-be23c5c59b02"
      },
      "execution_count": 4,
      "outputs": [
        {
          "output_type": "stream",
          "name": "stdout",
          "text": [
            "/bin/bash: line 1: /PythonForDataScience_intro-1.ipynb: Permission denied\n"
          ]
        },
        {
          "output_type": "error",
          "ename": "CalledProcessError",
          "evalue": "Command '/PythonForDataScience_intro-1.ipynb\n' returned non-zero exit status 126.",
          "traceback": [
            "\u001b[0;31m---------------------------------------------------------------------------\u001b[0m",
            "\u001b[0;31mCalledProcessError\u001b[0m                        Traceback (most recent call last)",
            "\u001b[0;32m<ipython-input-4-3c7ed64bf77b>\u001b[0m in \u001b[0;36m<cell line: 1>\u001b[0;34m()\u001b[0m\n\u001b[0;32m----> 1\u001b[0;31m \u001b[0mget_ipython\u001b[0m\u001b[0;34m(\u001b[0m\u001b[0;34m)\u001b[0m\u001b[0;34m.\u001b[0m\u001b[0mrun_cell_magic\u001b[0m\u001b[0;34m(\u001b[0m\u001b[0;34m'shell'\u001b[0m\u001b[0;34m,\u001b[0m \u001b[0;34m''\u001b[0m\u001b[0;34m,\u001b[0m \u001b[0;34m'/PythonForDataScience_intro-1.ipynb\\n'\u001b[0m\u001b[0;34m)\u001b[0m\u001b[0;34m\u001b[0m\u001b[0;34m\u001b[0m\u001b[0m\n\u001b[0m",
            "\u001b[0;32m/usr/local/lib/python3.10/dist-packages/google/colab/_shell.py\u001b[0m in \u001b[0;36mrun_cell_magic\u001b[0;34m(self, magic_name, line, cell)\u001b[0m\n\u001b[1;32m    332\u001b[0m     \u001b[0;32mif\u001b[0m \u001b[0mline\u001b[0m \u001b[0;32mand\u001b[0m \u001b[0;32mnot\u001b[0m \u001b[0mcell\u001b[0m\u001b[0;34m:\u001b[0m\u001b[0;34m\u001b[0m\u001b[0;34m\u001b[0m\u001b[0m\n\u001b[1;32m    333\u001b[0m       \u001b[0mcell\u001b[0m \u001b[0;34m=\u001b[0m \u001b[0;34m' '\u001b[0m\u001b[0;34m\u001b[0m\u001b[0;34m\u001b[0m\u001b[0m\n\u001b[0;32m--> 334\u001b[0;31m     \u001b[0;32mreturn\u001b[0m \u001b[0msuper\u001b[0m\u001b[0;34m(\u001b[0m\u001b[0;34m)\u001b[0m\u001b[0;34m.\u001b[0m\u001b[0mrun_cell_magic\u001b[0m\u001b[0;34m(\u001b[0m\u001b[0mmagic_name\u001b[0m\u001b[0;34m,\u001b[0m \u001b[0mline\u001b[0m\u001b[0;34m,\u001b[0m \u001b[0mcell\u001b[0m\u001b[0;34m)\u001b[0m\u001b[0;34m\u001b[0m\u001b[0;34m\u001b[0m\u001b[0m\n\u001b[0m\u001b[1;32m    335\u001b[0m \u001b[0;34m\u001b[0m\u001b[0m\n\u001b[1;32m    336\u001b[0m \u001b[0;34m\u001b[0m\u001b[0m\n",
            "\u001b[0;32m/usr/local/lib/python3.10/dist-packages/IPython/core/interactiveshell.py\u001b[0m in \u001b[0;36mrun_cell_magic\u001b[0;34m(self, magic_name, line, cell)\u001b[0m\n\u001b[1;32m   2471\u001b[0m             \u001b[0;32mwith\u001b[0m \u001b[0mself\u001b[0m\u001b[0;34m.\u001b[0m\u001b[0mbuiltin_trap\u001b[0m\u001b[0;34m:\u001b[0m\u001b[0;34m\u001b[0m\u001b[0;34m\u001b[0m\u001b[0m\n\u001b[1;32m   2472\u001b[0m                 \u001b[0margs\u001b[0m \u001b[0;34m=\u001b[0m \u001b[0;34m(\u001b[0m\u001b[0mmagic_arg_s\u001b[0m\u001b[0;34m,\u001b[0m \u001b[0mcell\u001b[0m\u001b[0;34m)\u001b[0m\u001b[0;34m\u001b[0m\u001b[0;34m\u001b[0m\u001b[0m\n\u001b[0;32m-> 2473\u001b[0;31m                 \u001b[0mresult\u001b[0m \u001b[0;34m=\u001b[0m \u001b[0mfn\u001b[0m\u001b[0;34m(\u001b[0m\u001b[0;34m*\u001b[0m\u001b[0margs\u001b[0m\u001b[0;34m,\u001b[0m \u001b[0;34m**\u001b[0m\u001b[0mkwargs\u001b[0m\u001b[0;34m)\u001b[0m\u001b[0;34m\u001b[0m\u001b[0;34m\u001b[0m\u001b[0m\n\u001b[0m\u001b[1;32m   2474\u001b[0m             \u001b[0;32mreturn\u001b[0m \u001b[0mresult\u001b[0m\u001b[0;34m\u001b[0m\u001b[0;34m\u001b[0m\u001b[0m\n\u001b[1;32m   2475\u001b[0m \u001b[0;34m\u001b[0m\u001b[0m\n",
            "\u001b[0;32m/usr/local/lib/python3.10/dist-packages/google/colab/_system_commands.py\u001b[0m in \u001b[0;36m_shell_cell_magic\u001b[0;34m(args, cmd)\u001b[0m\n\u001b[1;32m    110\u001b[0m   \u001b[0mresult\u001b[0m \u001b[0;34m=\u001b[0m \u001b[0m_run_command\u001b[0m\u001b[0;34m(\u001b[0m\u001b[0mcmd\u001b[0m\u001b[0;34m,\u001b[0m \u001b[0mclear_streamed_output\u001b[0m\u001b[0;34m=\u001b[0m\u001b[0;32mFalse\u001b[0m\u001b[0;34m)\u001b[0m\u001b[0;34m\u001b[0m\u001b[0;34m\u001b[0m\u001b[0m\n\u001b[1;32m    111\u001b[0m   \u001b[0;32mif\u001b[0m \u001b[0;32mnot\u001b[0m \u001b[0mparsed_args\u001b[0m\u001b[0;34m.\u001b[0m\u001b[0mignore_errors\u001b[0m\u001b[0;34m:\u001b[0m\u001b[0;34m\u001b[0m\u001b[0;34m\u001b[0m\u001b[0m\n\u001b[0;32m--> 112\u001b[0;31m     \u001b[0mresult\u001b[0m\u001b[0;34m.\u001b[0m\u001b[0mcheck_returncode\u001b[0m\u001b[0;34m(\u001b[0m\u001b[0;34m)\u001b[0m\u001b[0;34m\u001b[0m\u001b[0;34m\u001b[0m\u001b[0m\n\u001b[0m\u001b[1;32m    113\u001b[0m   \u001b[0;32mreturn\u001b[0m \u001b[0mresult\u001b[0m\u001b[0;34m\u001b[0m\u001b[0;34m\u001b[0m\u001b[0m\n\u001b[1;32m    114\u001b[0m \u001b[0;34m\u001b[0m\u001b[0m\n",
            "\u001b[0;32m/usr/local/lib/python3.10/dist-packages/google/colab/_system_commands.py\u001b[0m in \u001b[0;36mcheck_returncode\u001b[0;34m(self)\u001b[0m\n\u001b[1;32m    135\u001b[0m   \u001b[0;32mdef\u001b[0m \u001b[0mcheck_returncode\u001b[0m\u001b[0;34m(\u001b[0m\u001b[0mself\u001b[0m\u001b[0;34m)\u001b[0m\u001b[0;34m:\u001b[0m\u001b[0;34m\u001b[0m\u001b[0;34m\u001b[0m\u001b[0m\n\u001b[1;32m    136\u001b[0m     \u001b[0;32mif\u001b[0m \u001b[0mself\u001b[0m\u001b[0;34m.\u001b[0m\u001b[0mreturncode\u001b[0m\u001b[0;34m:\u001b[0m\u001b[0;34m\u001b[0m\u001b[0;34m\u001b[0m\u001b[0m\n\u001b[0;32m--> 137\u001b[0;31m       raise subprocess.CalledProcessError(\n\u001b[0m\u001b[1;32m    138\u001b[0m           \u001b[0mreturncode\u001b[0m\u001b[0;34m=\u001b[0m\u001b[0mself\u001b[0m\u001b[0;34m.\u001b[0m\u001b[0mreturncode\u001b[0m\u001b[0;34m,\u001b[0m \u001b[0mcmd\u001b[0m\u001b[0;34m=\u001b[0m\u001b[0mself\u001b[0m\u001b[0;34m.\u001b[0m\u001b[0margs\u001b[0m\u001b[0;34m,\u001b[0m \u001b[0moutput\u001b[0m\u001b[0;34m=\u001b[0m\u001b[0mself\u001b[0m\u001b[0;34m.\u001b[0m\u001b[0moutput\u001b[0m\u001b[0;34m\u001b[0m\u001b[0;34m\u001b[0m\u001b[0m\n\u001b[1;32m    139\u001b[0m       )\n",
            "\u001b[0;31mCalledProcessError\u001b[0m: Command '/PythonForDataScience_intro-1.ipynb\n' returned non-zero exit status 126."
          ]
        }
      ]
    },
    {
      "cell_type": "markdown",
      "source": [],
      "metadata": {
        "id": "2DK_F_0pg0Vs"
      }
    },
    {
      "cell_type": "code",
      "source": [
        "total_bill =3600\n",
        "price_of_one_iphone=900\n",
        "\n",
        "Number_of_iphones=total_bill//price_of_one_iphone\n",
        "print(\"The customer buys\",Number_of_iphones,\"iphones\")"
      ],
      "metadata": {
        "colab": {
          "base_uri": "https://localhost:8080/"
        },
        "id": "17XqRrt6g02B",
        "outputId": "974245e0-9cfd-482b-83b9-6481e73ac891"
      },
      "execution_count": 16,
      "outputs": [
        {
          "output_type": "stream",
          "name": "stdout",
          "text": [
            "The customer buys 4 iphones\n"
          ]
        }
      ]
    },
    {
      "cell_type": "code",
      "source": [
        "5//2"
      ],
      "metadata": {
        "colab": {
          "base_uri": "https://localhost:8080/"
        },
        "id": "h0Dzga3YnpjY",
        "outputId": "03a2725d-41c0-452a-8abe-f4c08252a1ea"
      },
      "execution_count": 17,
      "outputs": [
        {
          "output_type": "execute_result",
          "data": {
            "text/plain": [
              "2"
            ]
          },
          "metadata": {},
          "execution_count": 17
        }
      ]
    },
    {
      "cell_type": "code",
      "source": [
        "a = 30\n",
        "b = 8\n",
        "c = a/b\n",
        "print(\"a is of type\",type(a), \"and c is of type\", type(c) )\n"
      ],
      "metadata": {
        "colab": {
          "base_uri": "https://localhost:8080/"
        },
        "id": "sGekBgVNpntD",
        "outputId": "5c799537-3486-4684-a40d-c0a85fb5e240"
      },
      "execution_count": 18,
      "outputs": [
        {
          "output_type": "stream",
          "name": "stdout",
          "text": [
            "a is of type <class 'int'> and c is of type <class 'float'>\n"
          ]
        }
      ]
    },
    {
      "cell_type": "code",
      "source": [
        "brand_names=['Apple','Samsung','LG','Apple']\n",
        "type(brand_names)"
      ],
      "metadata": {
        "colab": {
          "base_uri": "https://localhost:8080/"
        },
        "id": "XXl7PRSKv4OJ",
        "outputId": "f3e28a76-3a95-496e-a89f-aae1da149265"
      },
      "execution_count": 19,
      "outputs": [
        {
          "output_type": "execute_result",
          "data": {
            "text/plain": [
              "list"
            ]
          },
          "metadata": {},
          "execution_count": 19
        }
      ]
    },
    {
      "cell_type": "code",
      "source": [
        "ram_list=[4,12,8,8]\n",
        "GB_list=[32,64,128,256]\n",
        "price_list=[900,899,600,1000]\n",
        "\n",
        "GB_list[2]"
      ],
      "metadata": {
        "colab": {
          "base_uri": "https://localhost:8080/"
        },
        "id": "TpY2-nnBxgBX",
        "outputId": "fc9dcb66-a2a4-4c7b-f16c-2863021ad174"
      },
      "execution_count": 62,
      "outputs": [
        {
          "output_type": "execute_result",
          "data": {
            "text/plain": [
              "128"
            ]
          },
          "metadata": {},
          "execution_count": 62
        }
      ]
    },
    {
      "cell_type": "code",
      "source": [
        "len(ram_list)"
      ],
      "metadata": {
        "colab": {
          "base_uri": "https://localhost:8080/"
        },
        "id": "1s6ekagQyF-m",
        "outputId": "f3e40fc5-9f55-45a3-9c99-b6bfa03148a4"
      },
      "execution_count": 21,
      "outputs": [
        {
          "output_type": "execute_result",
          "data": {
            "text/plain": [
              "4"
            ]
          },
          "metadata": {},
          "execution_count": 21
        }
      ]
    },
    {
      "cell_type": "code",
      "source": [
        "min_price= min(price_list)"
      ],
      "metadata": {
        "colab": {
          "base_uri": "https://localhost:8080/"
        },
        "id": "knD14l5FyLO7",
        "outputId": "27c20e78-aaf6-470a-b47a-5c2e265da899"
      },
      "execution_count": 22,
      "outputs": [
        {
          "output_type": "execute_result",
          "data": {
            "text/plain": [
              "600"
            ]
          },
          "metadata": {},
          "execution_count": 22
        }
      ]
    },
    {
      "cell_type": "code",
      "source": [
        "brand_names.append('Oneplus')\n",
        "brand_names"
      ],
      "metadata": {
        "colab": {
          "base_uri": "https://localhost:8080/"
        },
        "id": "2Z76TMvq2cLo",
        "outputId": "3aadb600-687b-491a-d612-dda3a05f1651"
      },
      "execution_count": 31,
      "outputs": [
        {
          "output_type": "execute_result",
          "data": {
            "text/plain": [
              "['Apple', 'Samsung', 'LG', 'Oneplus']"
            ]
          },
          "metadata": {},
          "execution_count": 31
        }
      ]
    },
    {
      "cell_type": "code",
      "source": [
        "brand_names[3]='Apple'\n",
        "brand_names"
      ],
      "metadata": {
        "colab": {
          "base_uri": "https://localhost:8080/"
        },
        "id": "ahXmeLM732F0",
        "outputId": "86cb61c8-f006-4231-8984-3fed2831094b"
      },
      "execution_count": 32,
      "outputs": [
        {
          "output_type": "execute_result",
          "data": {
            "text/plain": [
              "['Apple', 'Samsung', 'LG', 'Apple']"
            ]
          },
          "metadata": {},
          "execution_count": 32
        }
      ]
    },
    {
      "cell_type": "code",
      "source": [
        "storage=(32,64,128,256)\n",
        "storage[2:-1]\n"
      ],
      "metadata": {
        "colab": {
          "base_uri": "https://localhost:8080/"
        },
        "id": "jrOsod5C4Lgu",
        "outputId": "5783dab0-b4cd-4bd3-a94b-981521edc94d"
      },
      "execution_count": 35,
      "outputs": [
        {
          "output_type": "execute_result",
          "data": {
            "text/plain": [
              "(128,)"
            ]
          },
          "metadata": {},
          "execution_count": 35
        }
      ]
    },
    {
      "cell_type": "code",
      "source": [
        "products={'Brand': brand_names,'Ram':ram_list,'Storage':GB_list,'Price':price_list}\n",
        "products"
      ],
      "metadata": {
        "id": "X1lp3BPC7LK0",
        "outputId": "97f4573f-c494-423f-e72a-1f87487cfa51",
        "colab": {
          "base_uri": "https://localhost:8080/"
        }
      },
      "execution_count": 45,
      "outputs": [
        {
          "output_type": "execute_result",
          "data": {
            "text/plain": [
              "{'Brand': ['Apple', 'Samsung', 'LG', 'Apple'],\n",
              " 'Ram': [4, 12, 8, 8],\n",
              " 'Storage': [128, 128, 64, 128],\n",
              " 'Price': [900, 899, 600, 1000]}"
            ]
          },
          "metadata": {},
          "execution_count": 45
        }
      ]
    },
    {
      "cell_type": "code",
      "source": [
        "max(price_list)"
      ],
      "metadata": {
        "colab": {
          "base_uri": "https://localhost:8080/"
        },
        "id": "K43MI8HlyUBb",
        "outputId": "6a379dcd-63cb-416f-cfd0-cc4b01bf8e3b"
      },
      "execution_count": 23,
      "outputs": [
        {
          "output_type": "execute_result",
          "data": {
            "text/plain": [
              "1000"
            ]
          },
          "metadata": {},
          "execution_count": 23
        }
      ]
    },
    {
      "cell_type": "code",
      "source": [
        "type(products)"
      ],
      "metadata": {
        "id": "h2eTBM1N8peq",
        "outputId": "69cdb0e0-7050-465c-85a9-4a47e6b0812d",
        "colab": {
          "base_uri": "https://localhost:8080/"
        }
      },
      "execution_count": 37,
      "outputs": [
        {
          "output_type": "execute_result",
          "data": {
            "text/plain": [
              "dict"
            ]
          },
          "metadata": {},
          "execution_count": 37
        }
      ]
    },
    {
      "cell_type": "code",
      "source": [
        "keys=products.keys()\n",
        "print(\"The keys of dictionary are\\n\",keys)"
      ],
      "metadata": {
        "id": "fcNkSKup8rhL",
        "outputId": "c1c5a332-5dda-41d7-b78e-feb339bab897",
        "colab": {
          "base_uri": "https://localhost:8080/"
        }
      },
      "execution_count": 48,
      "outputs": [
        {
          "output_type": "stream",
          "name": "stdout",
          "text": [
            "The keys of dictionary are\n",
            " dict_keys(['Brand', 'Ram', 'Storage', 'Price'])\n"
          ]
        }
      ]
    },
    {
      "cell_type": "code",
      "source": [
        "values=products.values()\n",
        "print(\"the Values of dictionary are \\n\",values)"
      ],
      "metadata": {
        "id": "lZbhSFOS86RE",
        "outputId": "5d410d5b-90ac-468d-dd70-1cb47c7ce398",
        "colab": {
          "base_uri": "https://localhost:8080/"
        }
      },
      "execution_count": 46,
      "outputs": [
        {
          "output_type": "stream",
          "name": "stdout",
          "text": [
            "the Values of dictionary are \n",
            " dict_values([['Apple', 'Samsung', 'LG', 'Apple'], [4, 12, 8, 8], [128, 128, 64, 128], [900, 899, 600, 1000]])\n"
          ]
        }
      ]
    },
    {
      "cell_type": "code",
      "source": [
        "products['Brand'][2]\n"
      ],
      "metadata": {
        "id": "UQ-lYq_W9KhZ",
        "outputId": "1a776bcd-ac06-4df9-c83e-6d150441bff7",
        "colab": {
          "base_uri": "https://localhost:8080/",
          "height": 35
        }
      },
      "execution_count": 49,
      "outputs": [
        {
          "output_type": "execute_result",
          "data": {
            "text/plain": [
              "'LG'"
            ],
            "application/vnd.google.colaboratory.intrinsic+json": {
              "type": "string"
            }
          },
          "metadata": {},
          "execution_count": 49
        }
      ]
    },
    {
      "cell_type": "code",
      "source": [],
      "metadata": {
        "id": "xviEfjVJDQjv"
      },
      "execution_count": null,
      "outputs": []
    },
    {
      "cell_type": "code",
      "source": [
        "products.update({'Price':[900,1800,2400,2600]})\n",
        "print(products)"
      ],
      "metadata": {
        "id": "mw6L8WKbELr3",
        "outputId": "740bda54-ce40-40dc-9544-f4338df42601",
        "colab": {
          "base_uri": "https://localhost:8080/"
        }
      },
      "execution_count": 50,
      "outputs": [
        {
          "output_type": "stream",
          "name": "stdout",
          "text": [
            "{'Brand': ['Apple', 'Samsung', 'LG', 'Apple'], 'Ram': [4, 12, 8, 8], 'Storage': [128, 128, 64, 128], 'Price': [900, 1800, 2400, 2600]}\n"
          ]
        }
      ]
    },
    {
      "cell_type": "code",
      "source": [
        "dictionary={1:\"USA\", 2:\"India\", 3:\"China\"}\n",
        "dictionary.pop(2)\n",
        "print(dictionary)"
      ],
      "metadata": {
        "id": "NnZIKPJDEc6U",
        "outputId": "5d1ccaad-ae1a-4142-aff0-353f208c5f51",
        "colab": {
          "base_uri": "https://localhost:8080/"
        }
      },
      "execution_count": 51,
      "outputs": [
        {
          "output_type": "stream",
          "name": "stdout",
          "text": [
            "{1: 'USA', 3: 'China'}\n"
          ]
        }
      ]
    },
    {
      "cell_type": "code",
      "source": [],
      "metadata": {
        "id": "8xQWyc0JFem9"
      },
      "execution_count": null,
      "outputs": []
    },
    {
      "cell_type": "markdown",
      "source": [
        "Write a code in python that prints whether the customer can buy the iphone or not based in his budget."
      ],
      "metadata": {
        "id": "xAO-NjykFiIW"
      }
    },
    {
      "cell_type": "code",
      "source": [
        "budget =int(input(\"Please enter your budget,So you can decide if you own an iphone or not!\\n $\"))\n",
        "\n",
        "if(price_of_one_iphone <= budget):\n",
        "  print(\"It's within your budget,Hooray!\")\n",
        "else:\n",
        "  print(\"It's not within your budget,BUT you can own it very soon\")\n"
      ],
      "metadata": {
        "id": "1DDx-zFcFsTU",
        "outputId": "8f064f17-2e6a-43b1-e8ba-0bde99d746d6",
        "colab": {
          "base_uri": "https://localhost:8080/"
        }
      },
      "execution_count": 61,
      "outputs": [
        {
          "output_type": "stream",
          "name": "stdout",
          "text": [
            "Please enter your budget,So you can decide if you own an iphone or not!\n",
            " $300\n",
            "It's not within your budget,BUT you can own it very soon\n"
          ]
        }
      ]
    },
    {
      "cell_type": "code",
      "source": [
        "Memory=int(input(\"Enter how much storage do u want in GB\\n\"))\n",
        "if(Memory == 32):\n",
        "  print(\"The price is $600\")\n",
        "elif(Memory == 64):\n",
        "  print(\"The price is $700\")\n",
        "elif(Memory == 128):\n",
        "  print(\"The price is $900\")\n",
        "else:\n",
        "  print(\"Please enter the valid requirement\")\n"
      ],
      "metadata": {
        "id": "EHXP-3zwH-Bf",
        "outputId": "360ad4f2-3570-47a9-ff5f-9632a4d22657",
        "colab": {
          "base_uri": "https://localhost:8080/"
        }
      },
      "execution_count": 72,
      "outputs": [
        {
          "output_type": "stream",
          "name": "stdout",
          "text": [
            "Enter how much storage do u want in GB\n",
            "128\n",
            "The price is $900\n"
          ]
        }
      ]
    }
  ],
  "metadata": {
    "colab": {
      "name": "Snippets: Importing libraries",
      "provenance": [],
      "include_colab_link": true
    },
    "kernelspec": {
      "display_name": "Python 3",
      "name": "python3"
    }
  },
  "nbformat": 4,
  "nbformat_minor": 0
}